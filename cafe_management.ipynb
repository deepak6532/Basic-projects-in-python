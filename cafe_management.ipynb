{
 "cells": [
  {
   "cell_type": "code",
   "execution_count": 2,
   "id": "adf459c9-ec7e-402e-9f3d-de9a7fa5a7c6",
   "metadata": {},
   "outputs": [
    {
     "name": "stdout",
     "output_type": "stream",
     "text": [
      "Welcome to python cafe \n",
      "pizza : 200\n",
      "Burger : 60\n",
      "pasta : 50\n",
      "momos : 80\n",
      "coffee : 40\n",
      "chai : 20\n"
     ]
    },
    {
     "name": "stdin",
     "output_type": "stream",
     "text": [
      "Enter your order item (type 'no' to stop):  pizza\n",
      "Enter Quantity Your Order : 2\n"
     ]
    },
    {
     "name": "stdout",
     "output_type": "stream",
     "text": [
      "your item pizza has been added to your order \n"
     ]
    },
    {
     "name": "stdin",
     "output_type": "stream",
     "text": [
      "Enter your order item (type 'no' to stop):  momos\n",
      "Enter Quantity Your Order : 4\n"
     ]
    },
    {
     "name": "stdout",
     "output_type": "stream",
     "text": [
      "your item momos has been added to your order \n"
     ]
    },
    {
     "name": "stdin",
     "output_type": "stream",
     "text": [
      "Enter your order item (type 'no' to stop):  coffe\n"
     ]
    },
    {
     "name": "stdout",
     "output_type": "stream",
     "text": [
      "Order item coffe not available yet!\n"
     ]
    },
    {
     "name": "stdin",
     "output_type": "stream",
     "text": [
      "Enter your order item (type 'no' to stop):  2\n"
     ]
    },
    {
     "name": "stdout",
     "output_type": "stream",
     "text": [
      "Order item 2 not available yet!\n"
     ]
    },
    {
     "name": "stdin",
     "output_type": "stream",
     "text": [
      "Enter your order item (type 'no' to stop):  no\n"
     ]
    },
    {
     "name": "stdout",
     "output_type": "stream",
     "text": [
      "your order is: {'pizza': 2, 'momos': 4}\n",
      "Your order is 720\n",
      "{'pizza': 400, 'momos': 320}\n",
      "your order is 500 and above 500 to apply 10 %  discount\n",
      "Total ammount of order to pay is : 648.0\n"
     ]
    }
   ],
   "source": [
    "menu = {\n",
    "    \"pizza\" : 200,\n",
    "    \"Burger\": 60,\n",
    "    \"pasta\" : 50,\n",
    "    \"momos\" : 80,\n",
    "    \"coffee\": 40,\n",
    "    \"chai\"  : 20\n",
    "}\n",
    "\n",
    "print(\"Welcome to python cafe \")\n",
    "\n",
    "for key,values in menu.items():\n",
    "    print(key,\":\",values)\n",
    "    \n",
    "order_total = 0\n",
    "\n",
    "order = {}                        #Create a empty dictionary \n",
    "bill = {}\n",
    "\n",
    "while True:\n",
    "    item = input(\"Enter your order item (type 'no' to stop): \")\n",
    "    if item == 'no':\n",
    "        break\n",
    "    elif item in menu: \n",
    "        piece = int(input(\"Enter Quantity Your Order :\"))\n",
    "        \n",
    "        print(f\"your item {item} has been added to your order \")\n",
    "        order_total += ( menu[item] * piece)\n",
    "\n",
    "        order.update({item:piece}) #using dictionary update order name and quantity \n",
    "        a  = menu[item] * piece\n",
    "        bill.update({item:a})\n",
    "        \n",
    "    else:\n",
    "        print(f\"Order item {item} not available yet!\")\n",
    "\n",
    "\n",
    "print(f\"your order is: {order}\")    \n",
    "\n",
    "print(f\"Your order is {order_total}\")\n",
    "\n",
    "if(order_total>=500):\n",
    "    print(bill)\n",
    "    order_total =order_total - order_total*0.10\n",
    "    print(\"your order is 500 and above 500 to apply 10 %  discount\")\n",
    "    print(f\"Total ammount of order to pay is : {order_total}\")  \n",
    "    \n",
    "elif(order_total<=299):\n",
    "    print(bill)\n",
    "    Delivery_charge = 40\n",
    "    print(\"40 Delivery charge\")\n",
    "    print(f\"Total ammount of order to pay is : {Delivery_charge + order_total}\")  \n",
    "else:\n",
    "    print(bill)\n",
    "    print(f\"Total ammount of order to pay is : {order_total}\")                                  # print(u'\\u\"20B9') "
   ]
  },
  {
   "cell_type": "code",
   "execution_count": null,
   "id": "0a740c32-610b-4130-8d71-1762a875833f",
   "metadata": {},
   "outputs": [],
   "source": []
  }
 ],
 "metadata": {
  "kernelspec": {
   "display_name": "Python 3 (ipykernel)",
   "language": "python",
   "name": "python3"
  },
  "language_info": {
   "codemirror_mode": {
    "name": "ipython",
    "version": 3
   },
   "file_extension": ".py",
   "mimetype": "text/x-python",
   "name": "python",
   "nbconvert_exporter": "python",
   "pygments_lexer": "ipython3",
   "version": "3.12.4"
  }
 },
 "nbformat": 4,
 "nbformat_minor": 5
}
