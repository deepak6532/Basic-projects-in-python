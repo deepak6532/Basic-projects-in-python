{
 "cells": [
  {
   "cell_type": "code",
   "execution_count": 2,
   "id": "48dcb362-b789-44b5-be78-f4beed4d06a5",
   "metadata": {},
   "outputs": [
    {
     "name": "stdin",
     "output_type": "stream",
     "text": [
      "enter your pin  9376\n",
      "Input task we can performed : withdraw\n",
      "Enter withdraw amount  500\n"
     ]
    },
    {
     "name": "stdout",
     "output_type": "stream",
     "text": [
      " 500 note:  1 \n",
      " 100 note:  0\n",
      "Amount successfull withdraw \n",
      "you account balance is : 44500\n"
     ]
    },
    {
     "name": "stdin",
     "output_type": "stream",
     "text": [
      "enter your pin  9376\n",
      "Input task we can performed : withdraw\n",
      "Enter withdraw amount  350\n"
     ]
    },
    {
     "name": "stdout",
     "output_type": "stream",
     "text": [
      "Can not withdraw\n"
     ]
    },
    {
     "name": "stdin",
     "output_type": "stream",
     "text": [
      "enter your pin  9376\n",
      "Input task we can performed : withdraw\n",
      "Enter withdraw amount  45000\n"
     ]
    },
    {
     "name": "stdout",
     "output_type": "stream",
     "text": [
      "You don't have enough money in your account\n",
      "Can Not Withdraw!\n"
     ]
    },
    {
     "name": "stdin",
     "output_type": "stream",
     "text": [
      "enter your pin  no\n"
     ]
    },
    {
     "name": "stdout",
     "output_type": "stream",
     "text": [
      "please enter the write pin  invalid literal for int() with base 10: 'no'\n"
     ]
    }
   ],
   "source": [
    "Account_Balance= 45000\n",
    "atm_pin = 9376\n",
    "\n",
    "\n",
    "while True:\n",
    "    try:\n",
    "        pin = int(input(\"enter your pin \"))\n",
    "        if(pin!=atm_pin):\n",
    "            print(\"try again! please enter write pin\")\n",
    "            break\n",
    "        \n",
    "    \n",
    "        elif(pin == atm_pin):\n",
    "            task = input(\"Input task we can performed :\")\n",
    "            \n",
    "            if(task == \"Enquiry\"):\n",
    "                print(\"Total balance is : \",Account_Balance)\n",
    "            \n",
    "            elif(task ==\"withdraw\"):\n",
    "                \n",
    "                amount =int(input(\"Enter withdraw amount \"))\n",
    "                if(Account_Balance>=amount):\n",
    "                    if(amount%100!=0):\n",
    "                        print(\"Can not withdraw\")\n",
    "                    elif(amount>0):\n",
    "                        h = amount%500\n",
    "                        hn = h//100\n",
    "                        r = amount//500\n",
    "                        print(\" 500 note: \",r,\"\\n\",\"100 note: \",hn)\n",
    "                        print(\"Amount successfull withdraw \")\n",
    "                        Account_Balance = Account_Balance - amount\n",
    "                        print(\"you account balance is :\",Account_Balance)\n",
    "                elif(amount>=Account_Balance):\n",
    "                    print(\"You don't have enough money in your account\")\n",
    "                    print(\"Can Not Withdraw!\")\n",
    "            \n",
    "                else:\n",
    "                    print(\"can not withdraw\")\n",
    "            elif(task==\"change_pin\"):\n",
    "                print(\"If you want to change atm pin \")\n",
    "                pin_new = int(input(\"enter the new pin \"))\n",
    "\n",
    "                atm_pin = pin_new\n",
    "                print(\"you atm pin successfully changed \\nyour atm  pin is:\",atm_pin)\n",
    "        else:\n",
    "            print(\"Your pin wrong! try again \")\n",
    "    \n",
    "\n",
    "    except ValueError as e:\n",
    "        print(\"please enter the write pin \",e)\n",
    "        break"
   ]
  },
  {
   "cell_type": "code",
   "execution_count": null,
   "id": "53a1a828-db48-4525-ad03-50dfdffa0bba",
   "metadata": {},
   "outputs": [],
   "source": []
  }
 ],
 "metadata": {
  "kernelspec": {
   "display_name": "Python 3 (ipykernel)",
   "language": "python",
   "name": "python3"
  },
  "language_info": {
   "codemirror_mode": {
    "name": "ipython",
    "version": 3
   },
   "file_extension": ".py",
   "mimetype": "text/x-python",
   "name": "python",
   "nbconvert_exporter": "python",
   "pygments_lexer": "ipython3",
   "version": "3.12.4"
  }
 },
 "nbformat": 4,
 "nbformat_minor": 5
}
